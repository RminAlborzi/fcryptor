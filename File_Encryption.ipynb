{
  "cells": [
    {
      "cell_type": "markdown",
      "metadata": {
        "id": "view-in-github",
        "colab_type": "text"
      },
      "source": [
        "<a href=\"https://colab.research.google.com/github/RminAlborzi/fcryptor/blob/main/File_Encryption.ipynb\" target=\"_parent\"><img src=\"https://colab.research.google.com/assets/colab-badge.svg\" alt=\"Open In Colab\"/></a>"
      ]
    },
    {
      "cell_type": "code",
      "source": [
        "pip install cryptography *\n"
      ],
      "metadata": {
        "id": "D-N60Bw7z-KY"
      },
      "execution_count": null,
      "outputs": []
    },
    {
      "cell_type": "code",
      "source": [
        "from cryptography.hazmat.primitives import hashes\n",
        "from cryptography.hazmat.backends import default_backend\n",
        "from cryptography.hazmat.primitives.kdf.pbkdf2 import PBKDF2HMAC\n",
        "from cryptography.hazmat.primitives import serialization\n",
        "from cryptography.hazmat.primitives.ciphers import Cipher, algorithms, modes\n",
        "import os"
      ],
      "metadata": {
        "id": "nf-qdvcb0NTg"
      },
      "execution_count": 2,
      "outputs": []
    },
    {
      "cell_type": "code",
      "source": [
        "def encrypt_file(password, in_filename, out_filename=None, chunksize=64*1024):\n",
        "    if not out_filename:\n",
        "        out_filename = in_filename + '.enc'\n",
        "\n",
        "    salt = os.urandom(16)\n",
        "    kdf = PBKDF2HMAC(\n",
        "        algorithm=hashes.SHA256(),\n",
        "        length=32,\n",
        "        salt=salt,\n",
        "        iterations=100000,\n",
        "        backend=default_backend()\n",
        "    )\n",
        "    key = kdf.derive(password.encode())\n",
        "    iv = os.urandom(16)\n",
        "\n",
        "    encryptor = Cipher(\n",
        "        algorithms.AES(key),\n",
        "        modes.CFB(iv),\n",
        "        backend=default_backend()\n",
        "    ).encryptor()\n",
        "\n",
        "    with open(in_filename, 'rb') as infile:\n",
        "        with open(out_filename, 'wb') as outfile:\n",
        "            outfile.write(salt)\n",
        "            outfile.write(iv)\n",
        "            while True:\n",
        "                chunk = infile.read(chunksize)\n",
        "                if len(chunk) == 0:\n",
        "                    break\n",
        "                elif len(chunk) % 16 != 0:\n",
        "                    chunk += b' ' * (16 - len(chunk) % 16)\n",
        "                outfile.write(encryptor.update(chunk))\n",
        "            outfile.write(encryptor.finalize())\n",
        "\n",
        "    return out_filename\n",
        "\n",
        "# Usage example:\n",
        "password = \"armin3066\"\n",
        "file_to_encrypt = \"/content/Locking-File-Test.txt\"\n",
        "encrypted_file = encrypt_file(password, file_to_encrypt)\n",
        "print(\"File encrypted successfully:\", encrypted_file)"
      ],
      "metadata": {
        "colab": {
          "base_uri": "https://localhost:8080/"
        },
        "id": "imQbzQbX1A6m",
        "outputId": "41cbe9e9-e836-465e-a0ff-16e11f3d5579"
      },
      "execution_count": 7,
      "outputs": [
        {
          "output_type": "stream",
          "name": "stdout",
          "text": [
            "File encrypted successfully: /content/Locking-File-Test.txt.enc\n"
          ]
        }
      ]
    }
  ],
  "metadata": {
    "colab": {
      "name": "Welcome To Colaboratory",
      "provenance": [],
      "include_colab_link": true
    },
    "kernelspec": {
      "display_name": "Python 3",
      "name": "python3"
    }
  },
  "nbformat": 4,
  "nbformat_minor": 0
}